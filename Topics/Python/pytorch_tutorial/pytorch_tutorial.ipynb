{
 "cells": [
  {
   "cell_type": "markdown",
   "metadata": {},
   "source": [
    "#### First lesson: Tensor Math and Comparison Operations: \n",
    "-  Tensor indexing\n",
    "-  Tensor Reshaping"
   ]
  },
  {
   "cell_type": "code",
   "execution_count": 1,
   "metadata": {},
   "outputs": [],
   "source": [
    "import torch\n",
    "import numpy as np"
   ]
  },
  {
   "cell_type": "markdown",
   "metadata": {},
   "source": [
    "1. what is a tensor and how to create a tensor?\n",
    "- Tensor is multi-dimentional matrix containing elements of a single data type"
   ]
  },
  {
   "cell_type": "code",
   "execution_count": 2,
   "metadata": {},
   "outputs": [
    {
     "data": {
      "text/plain": [
       "tensor([[1, 2, 3],\n",
       "        [4, 5, 6]])"
      ]
     },
     "execution_count": 2,
     "metadata": {},
     "output_type": "execute_result"
    }
   ],
   "source": [
    "my_tensor = torch.tensor([[1,2,3],[4,5,6]])\n",
    "my_tensor"
   ]
  },
  {
   "cell_type": "markdown",
   "metadata": {},
   "source": [
    "2. Can we also set the type while initializing? Yes\n",
    "3. How?"
   ]
  },
  {
   "cell_type": "code",
   "execution_count": 3,
   "metadata": {},
   "outputs": [
    {
     "data": {
      "text/plain": [
       "tensor([[1., 2., 3.],\n",
       "        [4., 5., 6.]])"
      ]
     },
     "execution_count": 3,
     "metadata": {},
     "output_type": "execute_result"
    }
   ],
   "source": [
    "my_tensor = torch.tensor([[1,2,3],[4,5,6]],dtype=torch.float32)\n",
    "my_tensor"
   ]
  },
  {
   "cell_type": "code",
   "execution_count": 2,
   "metadata": {},
   "outputs": [
    {
     "data": {
      "text/plain": [
       "tensor([[1, 2, 3],\n",
       "        [4, 5, 6]], device='cuda:0')"
      ]
     },
     "execution_count": 2,
     "metadata": {},
     "output_type": "execute_result"
    }
   ],
   "source": [
    "device = \"cuda\" if torch.cuda.is_available() else \"cpu\"\n",
    "my_tensor =  torch.tensor([[1,2,3],[4,5,6]],device=device)\n",
    "my_tensor"
   ]
  },
  {
   "cell_type": "code",
   "execution_count": 3,
   "metadata": {},
   "outputs": [
    {
     "name": "stdout",
     "output_type": "stream",
     "text": [
      "torch.int64\n",
      "cuda:0\n",
      "torch.Size([2, 3])\n",
      "False\n"
     ]
    }
   ],
   "source": [
    "print(my_tensor.dtype)\n",
    "print(my_tensor.device)\n",
    "print(my_tensor.shape) # 2 rows and 3 columns\n",
    "print(my_tensor.requires_grad)"
   ]
  },
  {
   "cell_type": "code",
   "execution_count": 5,
   "metadata": {},
   "outputs": [
    {
     "name": "stdout",
     "output_type": "stream",
     "text": [
      "tensor([[0., 0., 0.],\n",
      "        [0., 0., 0.],\n",
      "        [0., 0., 0.]])\n",
      "tensor([[0., 0., 0.],\n",
      "        [0., 0., 0.],\n",
      "        [0., 0., 0.]])\n",
      "tensor([[0.1035, 0.3877, 0.7842],\n",
      "        [0.9629, 0.5405, 0.9829],\n",
      "        [0.4155, 0.2939, 0.7920]], dtype=torch.float16)\n",
      "tensor([[1., 1., 1.],\n",
      "        [1., 1., 1.],\n",
      "        [1., 1., 1.]])\n",
      "tensor([[1, 0, 0, 0, 0],\n",
      "        [0, 1, 0, 0, 0],\n",
      "        [0, 0, 1, 0, 0],\n",
      "        [0, 0, 0, 1, 0],\n",
      "        [0, 0, 0, 0, 1]], dtype=torch.int16)\n",
      "torch.float32\n",
      "torch.float32\n",
      "torch.float16\n",
      "torch.float32\n",
      "torch.int16\n",
      "tensor([[1, 0, 0, 0, 0],\n",
      "        [0, 1, 0, 0, 0],\n",
      "        [0, 0, 1, 0, 0],\n",
      "        [0, 0, 0, 1, 0],\n",
      "        [0, 0, 0, 0, 1]], dtype=torch.int16)\n"
     ]
    }
   ],
   "source": [
    "# create an zero 3*3 tensor\n",
    "x = torch.empty(size = (3,3))\n",
    "print(x)\n",
    "\n",
    "y = torch.zeros(3,3)\n",
    "print(y)\n",
    "\n",
    "# initializing random tensors\n",
    "f = torch.rand(3,3, dtype=torch.float16)\n",
    "print(f)\n",
    "\n",
    "# initializing ones tensor\n",
    "z = torch.ones(3,3)\n",
    "print(z)\n",
    "\n",
    "# initializing identical tensor\n",
    "i = torch.eye(5,5, dtype=torch.int16)\n",
    "print(i)\n",
    "\n",
    "# remember by default the data type is float32 in tensors\n",
    "print(x.dtype)\n",
    "print(y.dtype)\n",
    "print(f.dtype)\n",
    "print(z.dtype)\n",
    "print(i.dtype)\n"
   ]
  },
  {
   "cell_type": "code",
   "execution_count": 4,
   "metadata": {},
   "outputs": [
    {
     "name": "stdout",
     "output_type": "stream",
     "text": [
      "tensor([0, 1, 2, 3, 4])\n"
     ]
    }
   ],
   "source": [
    "x = torch.arange(start=0, end=5, step=1) # this is kind range, which we apply in loop \n",
    "print(x)"
   ]
  },
  {
   "cell_type": "code",
   "execution_count": 5,
   "metadata": {},
   "outputs": [
    {
     "name": "stdout",
     "output_type": "stream",
     "text": [
      "tensor([0.1000, 0.2000, 0.3000, 0.4000, 0.5000, 0.6000, 0.7000, 0.8000, 0.9000,\n",
      "        1.0000])\n"
     ]
    }
   ],
   "source": [
    "x = torch.linspace(start=0.1,end=1,steps=10) # this fuction also work as loop\n",
    "print(x)"
   ]
  },
  {
   "cell_type": "markdown",
   "metadata": {},
   "source": [
    "n.b: remember that torch is core library of pytorch framework"
   ]
  },
  {
   "cell_type": "code",
   "execution_count": 7,
   "metadata": {},
   "outputs": [
    {
     "name": "stdout",
     "output_type": "stream",
     "text": [
      "tensor([[-0.6199,  0.4872, -0.0413,  1.3820, -1.1765]])\n"
     ]
    }
   ],
   "source": [
    "x = torch.empty(1,5).normal_(mean=0,std=1) # initializing normal distribution, here std is standard deviation.\n",
    "print(x)"
   ]
  },
  {
   "cell_type": "code",
   "execution_count": 9,
   "metadata": {},
   "outputs": [
    {
     "name": "stdout",
     "output_type": "stream",
     "text": [
      "tensor([[0.5779, 0.8102, 0.9275, 0.1023, 0.7566]])\n"
     ]
    }
   ],
   "source": [
    "x = torch.empty(1,5).uniform_(0,1) # initializing uniform distribution\n",
    "print(x)"
   ]
  },
  {
   "cell_type": "code",
   "execution_count": 10,
   "metadata": {},
   "outputs": [
    {
     "name": "stdout",
     "output_type": "stream",
     "text": [
      "tensor([[1., 0., 0.],\n",
      "        [0., 1., 0.],\n",
      "        [0., 0., 1.]])\n"
     ]
    }
   ],
   "source": [
    "x = torch.diag(torch.ones(3)) # another way to initialize identity matrix\n",
    "print(x)"
   ]
  },
  {
   "cell_type": "markdown",
   "metadata": {},
   "source": [
    "#### How to initialize and convert tensors to another types such as int, float, double"
   ]
  },
  {
   "cell_type": "code",
   "execution_count": 5,
   "metadata": {},
   "outputs": [
    {
     "name": "stdout",
     "output_type": "stream",
     "text": [
      "tensor([0, 1, 2, 3])\n",
      "tensor([False,  True,  True,  True])\n",
      "tensor([0, 1, 2, 3], dtype=torch.int16)\n",
      "tensor([0, 1, 2, 3])\n",
      "tensor([0., 1., 2., 3.], dtype=torch.float16)\n",
      "tensor([0., 1., 2., 3.])\n",
      "tensor([0., 1., 2., 3.], dtype=torch.float64)\n"
     ]
    }
   ],
   "source": [
    "tensor = torch.arange(4)\n",
    "\n",
    "print(tensor)\n",
    "print(tensor.bool()) # convert to boolen(True/False)\n",
    "print(tensor.short()) # int16\n",
    "print(tensor.long()) # int64(Important)\n",
    "print(tensor.half()) # float16\n",
    "print(tensor.float()) # float32 (Important)\n",
    "print(tensor.double()) #float64"
   ]
  },
  {
   "cell_type": "code",
   "execution_count": 9,
   "metadata": {},
   "outputs": [
    {
     "name": "stdout",
     "output_type": "stream",
     "text": [
      "tensor([[0., 0., 0., 0., 0.],\n",
      "        [0., 0., 0., 0., 0.],\n",
      "        [0., 0., 0., 0., 0.],\n",
      "        [0., 0., 0., 0., 0.],\n",
      "        [0., 0., 0., 0., 0.]], dtype=torch.float64)\n",
      "[[0. 0. 0. 0. 0.]\n",
      " [0. 0. 0. 0. 0.]\n",
      " [0. 0. 0. 0. 0.]\n",
      " [0. 0. 0. 0. 0.]\n",
      " [0. 0. 0. 0. 0.]]\n"
     ]
    }
   ],
   "source": [
    "# Array to tensor conversion\n",
    "np.array = np.zeros((5,5))\n",
    "tensor = torch.from_numpy(np.array)\n",
    "print(tensor)\n",
    "np_array_back = tensor.numpy() # tensors to numpy array conversion\n",
    "print(np_array_back)"
   ]
  },
  {
   "cell_type": "markdown",
   "metadata": {},
   "source": [
    "#### Tensor Math and Comparison Operation"
   ]
  },
  {
   "cell_type": "code",
   "execution_count": 5,
   "metadata": {},
   "outputs": [
    {
     "name": "stdout",
     "output_type": "stream",
     "text": [
      "tensor([10, 10, 10])\n",
      "tensor([10., 10., 10.])\n",
      "tensor([10, 10, 10])\n",
      "tensor([-8, -6, -4])\n",
      "tensor([0.1111, 0.2500, 0.4286])\n",
      "tensor([1, 4, 9])\n",
      "tensor([81, 64, 49])\n",
      "tensor([False,  True,  True])\n",
      "tensor([[1.0353, 1.2403, 1.3911],\n",
      "        [1.1310, 1.2695, 1.5597]])\n",
      "tensor([[4.2205, 4.6985, 6.3367, 4.6345, 5.9974],\n",
      "        [5.0501, 5.7884, 7.7029, 5.6104, 7.2472],\n",
      "        [5.0635, 5.5903, 7.6489, 5.5811, 7.3397],\n",
      "        [2.6336, 2.8599, 3.9262, 2.9352, 3.7883],\n",
      "        [3.3614, 3.8283, 5.1608, 3.7158, 4.9031]])\n",
      "tensor([ 9, 16, 21])\n",
      "tensor(46)\n",
      "tensor([[[4.6665, 5.8531, 5.6283,  ..., 6.0059, 4.7276, 6.0091],\n",
      "         [6.2954, 6.9808, 5.9412,  ..., 6.9019, 5.8387, 6.7398],\n",
      "         [4.9542, 5.6323, 5.2925,  ..., 6.1177, 4.9166, 6.3650],\n",
      "         ...,\n",
      "         [3.4880, 4.9879, 4.1245,  ..., 4.8057, 3.1981, 4.7789],\n",
      "         [4.2582, 5.5967, 4.5030,  ..., 5.0436, 4.2113, 5.6136],\n",
      "         [6.1049, 5.5373, 5.3629,  ..., 5.8419, 5.0935, 5.7556]],\n",
      "\n",
      "        [[4.2103, 4.6701, 4.4194,  ..., 4.9626, 5.0618, 4.6172],\n",
      "         [4.9668, 6.2373, 5.5764,  ..., 4.4072, 5.9964, 5.1992],\n",
      "         [5.7904, 6.7845, 6.6672,  ..., 6.3286, 6.7648, 5.9245],\n",
      "         ...,\n",
      "         [5.1816, 6.6926, 5.8230,  ..., 6.3860, 6.7521, 5.9541],\n",
      "         [4.5339, 6.2976, 5.3010,  ..., 4.5680, 5.7093, 5.5155],\n",
      "         [3.7214, 4.5026, 4.2742,  ..., 4.3304, 5.1726, 4.2780]],\n",
      "\n",
      "        [[5.5883, 6.5237, 5.1942,  ..., 5.0457, 6.8184, 6.6282],\n",
      "         [5.4812, 6.6400, 5.7924,  ..., 5.5141, 7.3914, 6.8397],\n",
      "         [5.4897, 6.5010, 4.9079,  ..., 5.2612, 7.0302, 6.4023],\n",
      "         ...,\n",
      "         [4.1885, 4.9290, 4.0429,  ..., 4.5570, 5.0436, 4.5911],\n",
      "         [4.8364, 5.0073, 5.1112,  ..., 4.7687, 6.5040, 6.1845],\n",
      "         [4.3550, 3.7984, 3.8096,  ..., 4.1572, 5.1633, 4.9937]],\n",
      "\n",
      "        ...,\n",
      "\n",
      "        [[5.3104, 4.8089, 4.8669,  ..., 5.9021, 4.7421, 3.6030],\n",
      "         [5.4387, 4.9831, 4.7410,  ..., 4.9990, 5.0552, 3.2649],\n",
      "         [4.7370, 4.0652, 3.2657,  ..., 4.6635, 3.5839, 2.9439],\n",
      "         ...,\n",
      "         [5.1264, 4.5757, 4.1265,  ..., 5.5238, 4.1845, 3.5688],\n",
      "         [5.2257, 4.9119, 3.7273,  ..., 4.7121, 4.2000, 3.5291],\n",
      "         [7.2682, 6.1598, 5.3150,  ..., 7.4922, 5.7181, 4.8365]],\n",
      "\n",
      "        [[5.0313, 5.5499, 5.5811,  ..., 4.7681, 5.7490, 5.9073],\n",
      "         [4.9686, 4.5078, 6.1638,  ..., 4.7002, 5.5475, 5.9648],\n",
      "         [4.1965, 4.0078, 5.4585,  ..., 4.2322, 4.2730, 4.9568],\n",
      "         ...,\n",
      "         [4.8723, 4.8923, 5.5976,  ..., 5.0388, 5.1248, 4.9918],\n",
      "         [4.3488, 5.2547, 6.2505,  ..., 5.5085, 5.6261, 5.5104],\n",
      "         [4.8716, 4.5694, 6.2899,  ..., 5.2081, 5.1460, 5.6930]],\n",
      "\n",
      "        [[4.9826, 5.5779, 5.1347,  ..., 4.2912, 5.5315, 5.5621],\n",
      "         [5.1209, 4.9780, 4.8726,  ..., 4.1842, 4.6908, 4.5439],\n",
      "         [7.1220, 7.5661, 6.6385,  ..., 5.6042, 6.8543, 6.4099],\n",
      "         ...,\n",
      "         [4.0436, 5.5266, 4.3313,  ..., 3.9420, 4.9208, 4.0999],\n",
      "         [5.3363, 5.7145, 5.1417,  ..., 4.1872, 5.8639, 4.3750],\n",
      "         [4.0372, 4.7415, 4.3146,  ..., 3.3226, 5.1530, 3.8503]]])\n"
     ]
    }
   ],
   "source": [
    "x = torch.tensor([1,2,3])\n",
    "y = torch.tensor([9,8,7])\n",
    "\n",
    "# Addition\n",
    "add = x + y\n",
    "print(add)\n",
    "\n",
    "# we can do this in two other ways\n",
    "add = torch.empty(3)\n",
    "torch.add(x,y,out=add) \n",
    "print(add) # this actually took float\n",
    "\n",
    "add = torch.add(x,y)\n",
    "print(add)\n",
    "\n",
    "# subtraction\n",
    "substract = x-y\n",
    "print(substract)\n",
    "\n",
    "# Division\n",
    "div = torch.true_divide(x,y) # if x and y are of equal shape then this function will do the element wise division.\n",
    "print(div)\n",
    "\n",
    "# Inline operation: It will mutate the tensors in place so it does not create a copy. This is more computationally efficient\n",
    "t = torch.zeros(3)\n",
    "t.add_(x)\n",
    "\n",
    "# Exponentiation\n",
    "z = x.pow(2) # this is going to be element wise power of 2\n",
    "print(z)\n",
    "\n",
    "# same operation can be done using the following way as well\n",
    "z = y**2\n",
    "print(z)\n",
    "\n",
    "# Simple Comparison\n",
    "z = x>=2 # element wise comparison\n",
    "print(z)\n",
    "\n",
    "# Matrix Multiplication\n",
    "\n",
    "x1 = torch.rand((2,5))\n",
    "x2 = torch.rand((5,3))\n",
    "\n",
    "x3 = torch.mm(x1,x2) # 2x3 matrix\n",
    "print(x3)\n",
    "\n",
    "# Matrix exponentiation\n",
    "matrix_exp = torch.rand(5,5)\n",
    "print(matrix_exp.matrix_power(3))\n",
    "\n",
    "# Element wise multiplication\n",
    "z = x*y\n",
    "print(z)\n",
    "\n",
    "# dot product\n",
    "print(torch.dot(x,y))\n",
    "\n",
    "# Batch Matrix Multiplication\n",
    "batch = 32\n",
    "n = 18\n",
    "m = 20\n",
    "p = 30\n",
    "\n",
    "tensor1 = torch.rand((batch, n, m))\n",
    "tensor2 = torch.rand((batch, m, p))\n",
    "out_bmm = torch.bmm(tensor1,tensor2) # here the resulting sape is going to be batch x n x p\n",
    "print(out_bmm)\n"
   ]
  },
  {
   "cell_type": "code",
   "execution_count": 4,
   "metadata": {},
   "outputs": [
    {
     "name": "stdout",
     "output_type": "stream",
     "text": [
      "tensor([[-0.8348, -0.0798,  0.0364, -0.5262,  0.6617],\n",
      "        [-0.5570,  0.2229, -0.0034,  0.0691,  0.6039],\n",
      "        [-0.3877,  0.0316, -0.0850, -0.4416,  0.3508],\n",
      "        [ 0.0348, -0.1991, -0.4018, -0.0495,  0.6090],\n",
      "        [-0.0684,  0.1269,  0.1443,  0.0906,  0.3377]])\n",
      "tensor([[0.0405, 0.6325, 0.8313, 0.3258, 0.9868],\n",
      "        [0.3574, 0.8234, 0.7995, 0.8614, 0.9688],\n",
      "        [0.5239, 0.7136, 0.7330, 0.4142, 0.8789],\n",
      "        [0.9079, 0.5180, 0.4500, 0.7661, 0.9704],\n",
      "        [0.8171, 0.7717, 0.9153, 0.8783, 0.8737]])\n"
     ]
    }
   ],
   "source": [
    "# Example of broadcasting which refers as the dimention automatically expands\n",
    "\n",
    "x1 = torch.rand((5,5))\n",
    "x2 = torch.rand((1,5))\n",
    "\n",
    "z = x1-x2 \n",
    "print(z)\n",
    "''' In order to do mathematical operation in matrix x1's coulmn and x2's row should be matched, \n",
    "but pytorch can do this operation by broadcasting. \n",
    "Also as x2 has only one row it is also consider as a vector. \n",
    "So, the row of x2 will expand in order to match the row of x1. '''\n",
    "\n",
    "z = x1**x2\n",
    "print(z)"
   ]
  },
  {
   "cell_type": "markdown",
   "metadata": {},
   "source": [
    "#### Some other useful Tensor operations"
   ]
  },
  {
   "cell_type": "code",
   "execution_count": null,
   "metadata": {},
   "outputs": [],
   "source": []
  },
  {
   "cell_type": "code",
   "execution_count": null,
   "metadata": {},
   "outputs": [],
   "source": []
  }
 ],
 "metadata": {
  "kernelspec": {
   "display_name": "ml_gpu_env",
   "language": "python",
   "name": "python3"
  },
  "language_info": {
   "codemirror_mode": {
    "name": "ipython",
    "version": 3
   },
   "file_extension": ".py",
   "mimetype": "text/x-python",
   "name": "python",
   "nbconvert_exporter": "python",
   "pygments_lexer": "ipython3",
   "version": "3.9.18"
  }
 },
 "nbformat": 4,
 "nbformat_minor": 2
}
