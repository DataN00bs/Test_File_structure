{
 "cells": [
  {
   "cell_type": "markdown",
   "metadata": {},
   "source": [
    "#### First lesson: Tensor Math and Comparison Operations: \n",
    "-  Tensor indexing\n",
    "-  Tensor Reshaping"
   ]
  },
  {
   "cell_type": "code",
   "execution_count": 2,
   "metadata": {},
   "outputs": [],
   "source": [
    "import torch\n",
    "import numpy as np"
   ]
  },
  {
   "cell_type": "markdown",
   "metadata": {},
   "source": [
    "1. what is a tensor and how to create a tensor?\n",
    "- Tensor is multi-dimentional matrix containing elements of a single data type"
   ]
  },
  {
   "cell_type": "code",
   "execution_count": 2,
   "metadata": {},
   "outputs": [
    {
     "data": {
      "text/plain": [
       "tensor([[1, 2, 3],\n",
       "        [4, 5, 6]])"
      ]
     },
     "execution_count": 2,
     "metadata": {},
     "output_type": "execute_result"
    }
   ],
   "source": [
    "my_tensor = torch.tensor([[1,2,3],[4,5,6]])\n",
    "my_tensor"
   ]
  },
  {
   "cell_type": "markdown",
   "metadata": {},
   "source": [
    "2. Can we also set the type while initializing? Yes\n",
    "3. How?"
   ]
  },
  {
   "cell_type": "code",
   "execution_count": 3,
   "metadata": {},
   "outputs": [
    {
     "data": {
      "text/plain": [
       "tensor([[1., 2., 3.],\n",
       "        [4., 5., 6.]])"
      ]
     },
     "execution_count": 3,
     "metadata": {},
     "output_type": "execute_result"
    }
   ],
   "source": [
    "my_tensor = torch.tensor([[1,2,3],[4,5,6]],dtype=torch.float32)\n",
    "my_tensor"
   ]
  },
  {
   "cell_type": "code",
   "execution_count": 2,
   "metadata": {},
   "outputs": [
    {
     "data": {
      "text/plain": [
       "tensor([[1, 2, 3],\n",
       "        [4, 5, 6]], device='cuda:0')"
      ]
     },
     "execution_count": 2,
     "metadata": {},
     "output_type": "execute_result"
    }
   ],
   "source": [
    "device = \"cuda\" if torch.cuda.is_available() else \"cpu\"\n",
    "my_tensor =  torch.tensor([[1,2,3],[4,5,6]],device=device)\n",
    "my_tensor"
   ]
  },
  {
   "cell_type": "code",
   "execution_count": 3,
   "metadata": {},
   "outputs": [
    {
     "name": "stdout",
     "output_type": "stream",
     "text": [
      "torch.int64\n",
      "cuda:0\n",
      "torch.Size([2, 3])\n",
      "False\n"
     ]
    }
   ],
   "source": [
    "print(my_tensor.dtype)\n",
    "print(my_tensor.device)\n",
    "print(my_tensor.shape) # 2 rows and 3 columns\n",
    "print(my_tensor.requires_grad)"
   ]
  },
  {
   "cell_type": "code",
   "execution_count": 5,
   "metadata": {},
   "outputs": [
    {
     "name": "stdout",
     "output_type": "stream",
     "text": [
      "tensor([[0., 0., 0.],\n",
      "        [0., 0., 0.],\n",
      "        [0., 0., 0.]])\n",
      "tensor([[0., 0., 0.],\n",
      "        [0., 0., 0.],\n",
      "        [0., 0., 0.]])\n",
      "tensor([[0.1035, 0.3877, 0.7842],\n",
      "        [0.9629, 0.5405, 0.9829],\n",
      "        [0.4155, 0.2939, 0.7920]], dtype=torch.float16)\n",
      "tensor([[1., 1., 1.],\n",
      "        [1., 1., 1.],\n",
      "        [1., 1., 1.]])\n",
      "tensor([[1, 0, 0, 0, 0],\n",
      "        [0, 1, 0, 0, 0],\n",
      "        [0, 0, 1, 0, 0],\n",
      "        [0, 0, 0, 1, 0],\n",
      "        [0, 0, 0, 0, 1]], dtype=torch.int16)\n",
      "torch.float32\n",
      "torch.float32\n",
      "torch.float16\n",
      "torch.float32\n",
      "torch.int16\n",
      "tensor([[1, 0, 0, 0, 0],\n",
      "        [0, 1, 0, 0, 0],\n",
      "        [0, 0, 1, 0, 0],\n",
      "        [0, 0, 0, 1, 0],\n",
      "        [0, 0, 0, 0, 1]], dtype=torch.int16)\n"
     ]
    }
   ],
   "source": [
    "# create an zero 3*3 tensor\n",
    "x = torch.empty(size = (3,3))\n",
    "print(x)\n",
    "\n",
    "y = torch.zeros(3,3)\n",
    "print(y)\n",
    "\n",
    "# initializing random tensors\n",
    "f = torch.rand(3,3, dtype=torch.float16)\n",
    "print(f)\n",
    "\n",
    "# initializing ones tensor\n",
    "z = torch.ones(3,3)\n",
    "print(z)\n",
    "\n",
    "# initializing identical tensor\n",
    "i = torch.eye(5,5, dtype=torch.int16)\n",
    "print(i)\n",
    "\n",
    "# remember by default the data type is float32 in tensors\n",
    "print(x.dtype)\n",
    "print(y.dtype)\n",
    "print(f.dtype)\n",
    "print(z.dtype)\n",
    "print(i.dtype)\n"
   ]
  },
  {
   "cell_type": "code",
   "execution_count": 4,
   "metadata": {},
   "outputs": [
    {
     "name": "stdout",
     "output_type": "stream",
     "text": [
      "tensor([0, 1, 2, 3, 4])\n"
     ]
    }
   ],
   "source": [
    "x = torch.arange(start=0, end=5, step=1) # this is kind range, which we apply in loop \n",
    "print(x)"
   ]
  },
  {
   "cell_type": "code",
   "execution_count": 5,
   "metadata": {},
   "outputs": [
    {
     "name": "stdout",
     "output_type": "stream",
     "text": [
      "tensor([0.1000, 0.2000, 0.3000, 0.4000, 0.5000, 0.6000, 0.7000, 0.8000, 0.9000,\n",
      "        1.0000])\n"
     ]
    }
   ],
   "source": [
    "x = torch.linspace(start=0.1,end=1,steps=10) # this fuction also work as loop\n",
    "print(x)"
   ]
  },
  {
   "cell_type": "markdown",
   "metadata": {},
   "source": [
    "n.b: remember that torch is core library of pytorch framework"
   ]
  },
  {
   "cell_type": "code",
   "execution_count": 7,
   "metadata": {},
   "outputs": [
    {
     "name": "stdout",
     "output_type": "stream",
     "text": [
      "tensor([[-0.6199,  0.4872, -0.0413,  1.3820, -1.1765]])\n"
     ]
    }
   ],
   "source": [
    "x = torch.empty(1,5).normal_(mean=0,std=1) # initializing normal distribution, here std is standard deviation.\n",
    "print(x)"
   ]
  },
  {
   "cell_type": "code",
   "execution_count": 9,
   "metadata": {},
   "outputs": [
    {
     "name": "stdout",
     "output_type": "stream",
     "text": [
      "tensor([[0.5779, 0.8102, 0.9275, 0.1023, 0.7566]])\n"
     ]
    }
   ],
   "source": [
    "x = torch.empty(1,5).uniform_(0,1) # initializing uniform distribution\n",
    "print(x)"
   ]
  },
  {
   "cell_type": "code",
   "execution_count": 10,
   "metadata": {},
   "outputs": [
    {
     "name": "stdout",
     "output_type": "stream",
     "text": [
      "tensor([[1., 0., 0.],\n",
      "        [0., 1., 0.],\n",
      "        [0., 0., 1.]])\n"
     ]
    }
   ],
   "source": [
    "x = torch.diag(torch.ones(3)) # another way to initialize identity matrix\n",
    "print(x)"
   ]
  },
  {
   "cell_type": "markdown",
   "metadata": {},
   "source": [
    "#### How to initialize and convert tensors to another types such as int, float, double"
   ]
  },
  {
   "cell_type": "code",
   "execution_count": 5,
   "metadata": {},
   "outputs": [
    {
     "name": "stdout",
     "output_type": "stream",
     "text": [
      "tensor([0, 1, 2, 3])\n",
      "tensor([False,  True,  True,  True])\n",
      "tensor([0, 1, 2, 3], dtype=torch.int16)\n",
      "tensor([0, 1, 2, 3])\n",
      "tensor([0., 1., 2., 3.], dtype=torch.float16)\n",
      "tensor([0., 1., 2., 3.])\n",
      "tensor([0., 1., 2., 3.], dtype=torch.float64)\n"
     ]
    }
   ],
   "source": [
    "tensor = torch.arange(4)\n",
    "\n",
    "print(tensor)\n",
    "print(tensor.bool()) # convert to boolen(True/False)\n",
    "print(tensor.short()) # int16\n",
    "print(tensor.long()) # int64(Important)\n",
    "print(tensor.half()) # float16\n",
    "print(tensor.float()) # float32 (Important)\n",
    "print(tensor.double()) #float64"
   ]
  },
  {
   "cell_type": "code",
   "execution_count": 9,
   "metadata": {},
   "outputs": [
    {
     "name": "stdout",
     "output_type": "stream",
     "text": [
      "tensor([[0., 0., 0., 0., 0.],\n",
      "        [0., 0., 0., 0., 0.],\n",
      "        [0., 0., 0., 0., 0.],\n",
      "        [0., 0., 0., 0., 0.],\n",
      "        [0., 0., 0., 0., 0.]], dtype=torch.float64)\n",
      "[[0. 0. 0. 0. 0.]\n",
      " [0. 0. 0. 0. 0.]\n",
      " [0. 0. 0. 0. 0.]\n",
      " [0. 0. 0. 0. 0.]\n",
      " [0. 0. 0. 0. 0.]]\n"
     ]
    }
   ],
   "source": [
    "# Array to tensor conversion\n",
    "np.array = np.zeros((5,5))\n",
    "tensor = torch.from_numpy(np.array)\n",
    "print(tensor)\n",
    "np_array_back = tensor.numpy() # tensors to numpy array conversion\n",
    "print(np_array_back)"
   ]
  },
  {
   "cell_type": "markdown",
   "metadata": {},
   "source": [
    "#### Tensor Math and Comparison Operation"
   ]
  },
  {
   "cell_type": "code",
   "execution_count": 27,
   "metadata": {},
   "outputs": [
    {
     "name": "stdout",
     "output_type": "stream",
     "text": [
      "tensor([10, 10, 10])\n",
      "tensor([10., 10., 10.])\n",
      "tensor([10, 10, 10])\n",
      "tensor([-8, -6, -4])\n",
      "tensor([0.1111, 0.2500, 0.4286])\n",
      "tensor([1, 4, 9])\n",
      "tensor([81, 64, 49])\n",
      "tensor([False,  True,  True])\n",
      "tensor([[1.0164, 1.4687, 1.1126],\n",
      "        [1.0985, 1.3218, 0.8300]])\n",
      "tensor([[1.5308, 3.2597, 2.6153, 2.8035, 1.7482],\n",
      "        [2.0056, 3.8015, 3.1641, 3.3650, 2.0977],\n",
      "        [1.3042, 2.4204, 1.9304, 2.0638, 1.2986],\n",
      "        [1.3060, 2.6803, 2.0780, 2.1835, 1.4246],\n",
      "        [1.3303, 2.9055, 2.1439, 2.5185, 1.4224]])\n",
      "tensor([ 9, 16, 21])\n",
      "tensor(46)\n",
      "tensor([[[5.4113, 5.3606, 5.8773,  ..., 5.7394, 4.7015, 5.4841],\n",
      "         [5.5988, 5.0432, 5.9996,  ..., 4.9456, 3.8071, 5.0429],\n",
      "         [5.6024, 4.4092, 5.6877,  ..., 5.0827, 3.0945, 4.2451],\n",
      "         ...,\n",
      "         [5.6531, 5.2391, 5.8490,  ..., 5.4551, 3.9255, 5.2075],\n",
      "         [5.5591, 4.8665, 5.3039,  ..., 4.9394, 3.9644, 5.0110],\n",
      "         [4.9859, 5.5701, 6.3920,  ..., 5.5455, 4.3300, 5.6540]],\n",
      "\n",
      "        [[4.3929, 6.2515, 4.5610,  ..., 6.0453, 4.1340, 5.1484],\n",
      "         [4.1725, 5.6295, 3.6161,  ..., 4.4900, 3.5493, 4.8888],\n",
      "         [3.7655, 5.6656, 4.9809,  ..., 4.6660, 4.3541, 5.2791],\n",
      "         ...,\n",
      "         [5.0533, 6.0351, 3.6978,  ..., 5.0217, 4.1575, 4.8435],\n",
      "         [5.0377, 5.8044, 4.0659,  ..., 4.8321, 4.2623, 4.7337],\n",
      "         [4.2303, 5.7972, 4.6116,  ..., 5.2265, 4.1280, 4.9467]],\n",
      "\n",
      "        [[5.7507, 5.8862, 6.4522,  ..., 5.3655, 4.8056, 5.5016],\n",
      "         [4.2916, 5.7449, 5.3690,  ..., 4.5601, 4.1240, 4.0326],\n",
      "         [5.3194, 5.8635, 6.2129,  ..., 5.6993, 4.6156, 5.7800],\n",
      "         ...,\n",
      "         [6.0160, 7.1758, 5.8929,  ..., 5.6068, 3.6274, 5.3077],\n",
      "         [5.0679, 5.4502, 5.1539,  ..., 5.2755, 3.8148, 4.2459],\n",
      "         [5.5427, 6.7911, 7.0970,  ..., 6.1765, 4.9772, 5.6355]],\n",
      "\n",
      "        ...,\n",
      "\n",
      "        [[4.5121, 5.7630, 5.3035,  ..., 4.8367, 3.4493, 4.5604],\n",
      "         [4.2941, 4.3802, 5.2002,  ..., 3.7929, 2.7485, 4.0483],\n",
      "         [3.8350, 3.7826, 3.9254,  ..., 3.9391, 2.4272, 3.6104],\n",
      "         ...,\n",
      "         [4.0031, 6.0411, 6.3837,  ..., 4.5515, 4.2008, 4.2984],\n",
      "         [5.6196, 5.6120, 6.0931,  ..., 5.4619, 3.8732, 5.3903],\n",
      "         [3.5025, 4.2208, 4.7563,  ..., 4.1216, 3.2366, 3.9627]],\n",
      "\n",
      "        [[5.6228, 3.8715, 5.0504,  ..., 4.6990, 5.4706, 3.8957],\n",
      "         [5.7826, 4.0787, 5.1730,  ..., 4.8336, 4.5672, 3.9851],\n",
      "         [4.6214, 3.1743, 4.4118,  ..., 3.9591, 4.1048, 3.2310],\n",
      "         ...,\n",
      "         [6.0385, 4.5114, 6.4164,  ..., 4.7702, 5.6639, 5.0766],\n",
      "         [7.0065, 4.7230, 6.1052,  ..., 5.8827, 5.3192, 4.2878],\n",
      "         [6.1729, 4.5321, 5.6399,  ..., 4.7972, 5.1735, 4.3561]],\n",
      "\n",
      "        [[5.3937, 6.7324, 5.6378,  ..., 5.4079, 4.8045, 5.9227],\n",
      "         [5.5172, 7.4560, 5.2480,  ..., 5.8065, 5.7369, 6.2830],\n",
      "         [4.9894, 5.4345, 4.5959,  ..., 5.1581, 4.6260, 5.6496],\n",
      "         ...,\n",
      "         [5.4021, 6.4442, 4.9670,  ..., 6.4905, 4.2379, 5.6907],\n",
      "         [4.5847, 5.7731, 4.2959,  ..., 4.8837, 4.0102, 3.7277],\n",
      "         [5.6171, 7.4139, 6.4582,  ..., 5.7724, 5.4500, 6.4278]]])\n"
     ]
    }
   ],
   "source": [
    "x = torch.tensor([1,2,3])\n",
    "y = torch.tensor([9,8,7])\n",
    "\n",
    "# Addition\n",
    "add = x + y\n",
    "print(add)\n",
    "\n",
    "# we can do this in two other ways\n",
    "add = torch.empty(3)\n",
    "torch.add(x,y,out=add) \n",
    "print(add) # this actually took float\n",
    "\n",
    "add = torch.add(x,y)\n",
    "print(add)\n",
    "\n",
    "# subtraction\n",
    "substract = x-y\n",
    "print(substract)\n",
    "\n",
    "# Division\n",
    "div = torch.true_divide(x,y) # if x and y are of equal shape then this function will do the element wise division.\n",
    "print(div)\n",
    "\n",
    "# Inline operation: It will mutate the tensors in place so it does not create a copy. This is more computationally efficient\n",
    "t = torch.zeros(3)\n",
    "t.add_(x)\n",
    "\n",
    "# Exponentiation\n",
    "z = x.pow(2) # this is going to be element wise power of 2\n",
    "print(z)\n",
    "\n",
    "# same operation can be done using the following way as well\n",
    "z = y**2\n",
    "print(z)\n",
    "\n",
    "# Simple Comparison\n",
    "z = x>=2 # element wise comparison\n",
    "print(z)\n",
    "\n",
    "# Matrix Multiplication\n",
    "\n",
    "x1 = torch.rand((2,5))\n",
    "x2 = torch.rand((5,3))\n",
    "\n",
    "x3 = torch.mm(x1,x2) # 2x3 matrix\n",
    "print(x3)\n",
    "\n",
    "# Matrix exponentiation\n",
    "matrix_exp = torch.rand(5,5)\n",
    "print(matrix_exp.matrix_power(3))\n",
    "\n",
    "# Element wise multiplication\n",
    "z = x*y\n",
    "print(z)\n",
    "\n",
    "# dot product\n",
    "print(torch.dot(x,y))\n",
    "\n",
    "# Batch Matrix Multiplication\n",
    "batch = 32\n",
    "n = 18\n",
    "m = 20\n",
    "p = 30\n",
    "\n",
    "tensor1 = torch.rand((batch, n, m))\n",
    "tensor2 = torch.rand((batch, m, p))\n",
    "out_bmm = torch.bmm(tensor1,tensor2) # here the resulting sape is going to be batch x n x p\n",
    "print(out_bmm)\n"
   ]
  }
 ],
 "metadata": {
  "kernelspec": {
   "display_name": "ml_gpu_env",
   "language": "python",
   "name": "python3"
  },
  "language_info": {
   "codemirror_mode": {
    "name": "ipython",
    "version": 3
   },
   "file_extension": ".py",
   "mimetype": "text/x-python",
   "name": "python",
   "nbconvert_exporter": "python",
   "pygments_lexer": "ipython3",
   "version": "3.9.18"
  }
 },
 "nbformat": 4,
 "nbformat_minor": 2
}
